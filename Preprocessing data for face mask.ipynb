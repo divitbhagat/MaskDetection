{
 "cells": [
  {
   "cell_type": "code",
   "execution_count": 7,
   "metadata": {},
   "outputs": [],
   "source": [
    "import cv2\n",
    "import os\n",
    "import numpy as np"
   ]
  },
  {
   "cell_type": "code",
   "execution_count": 8,
   "metadata": {},
   "outputs": [
    {
     "data": {
      "text/plain": [
       "['without_mask', 'with_mask']"
      ]
     },
     "execution_count": 8,
     "metadata": {},
     "output_type": "execute_result"
    }
   ],
   "source": [
    "#Getting all the labels and storing them in a dictionary\n",
    "data_path = 'F:\\Major Project\\Project1\\datasets'\n",
    "\n",
    "categories=os.listdir(data_path)\n",
    "categories"
   ]
  },
  {
   "cell_type": "code",
   "execution_count": 9,
   "metadata": {},
   "outputs": [
    {
     "data": {
      "text/plain": [
       "{'without_mask': 0, 'with_mask': 1}"
      ]
     },
     "execution_count": 9,
     "metadata": {},
     "output_type": "execute_result"
    }
   ],
   "source": [
    "label_dict = {}\n",
    "for i in range(len(categories)):\n",
    "    label_dict[categories[i]]=i\n",
    "label_dict\n"
   ]
  },
  {
   "cell_type": "code",
   "execution_count": 86,
   "metadata": {},
   "outputs": [],
   "source": [
    "img_channels=1"
   ]
  },
  {
   "cell_type": "code",
   "execution_count": 10,
   "metadata": {},
   "outputs": [],
   "source": [
    "\n",
    "data=[]\n",
    "target=[]\n",
    "\n",
    "img_size=100\n",
    "img_channels=1\n",
    "\n",
    "#iterate on categories\n",
    "for category in categories:\n",
    "    path=os.path.join(data_path,category)\n",
    "    \n",
    "    #Get all images of a paticular category\n",
    "    images=os.listdir(path)\n",
    "    \n",
    "    #iterate over all the images\n",
    "    for image_name in images:\n",
    "        image_path=os.path.join(path,image_name)\n",
    "        img=cv2.imread(image_path)\n",
    "        \n",
    "        try:\n",
    "            #covert image into gray scale \n",
    "            gray_img=cv2.cvtColor(img,cv2.COLOR_BGR2GRAY)\n",
    "            \n",
    "            #resize all th images into constant size X size to get a consistent input for our model\n",
    "            resized_img=cv2.resize(gray_img, (img_size,img_size))\n",
    "            \n",
    "            #appending image and its category to a dataset array \n",
    "            data.append(resized_img)\n",
    "            target.append(label_dict[category])\n",
    "        \n",
    "        except Exception as e:\n",
    "            #if there is any issue with an img then the exception is raised here and code moves over to the next image\n",
    "            print('image_name : ',image_name)\n",
    "            print('image_path : ',image_path)\n",
    "            print('path : ',path)\n",
    "            print('Caught an exception while converting and adding image to dataset :',e)  \n"
   ]
  },
  {
   "cell_type": "code",
   "execution_count": 77,
   "metadata": {},
   "outputs": [
    {
     "data": {
      "text/plain": [
       "array([[ 9,  9, 10, ..., 21, 27, 27],\n",
       "       [ 8,  8,  7, ...,  8, 13, 15],\n",
       "       [12, 10, 10, ...,  4,  4,  4],\n",
       "       ...,\n",
       "       [66, 67, 58, ...,  1,  0,  0],\n",
       "       [66, 64, 53, ...,  2,  0,  0],\n",
       "       [60, 56, 49, ...,  2,  0,  0]], dtype=uint8)"
      ]
     },
     "execution_count": 77,
     "metadata": {},
     "output_type": "execute_result"
    }
   ],
   "source": [
    "data[0]"
   ]
  },
  {
   "cell_type": "code",
   "execution_count": 5,
   "metadata": {},
   "outputs": [],
   "source": [
    "#make image name consistent with same extention\n",
    "i=0\n",
    "for file in os.listdir(\"F:/Major Project/Project1/datasets/with_mask\"):\n",
    "   \n",
    "    old='F:/Major Project/Project1/datasets/with_mask/'+file\n",
    "    new='F:/Major Project/Project1/datasets/with_mask/with_mask_'+str(i)+'.jpg'\n",
    "    i=i+1\n",
    "    os.rename(old, new)\n",
    "\n",
    "i=0\n",
    "for file in os.listdir(\"F:/Major Project/Project1/datasets/without_mask\"):\n",
    "   \n",
    "    old='F:/Major Project/Project1/datasets/without_mask/'+file\n",
    "    new='F:/Major Project/Project1/datasets/without_mask/without_mask_'+str(i)+'.jpg'\n",
    "    i=i+1\n",
    "    os.rename(old, new)\n",
    "        \n",
    "    "
   ]
  },
  {
   "cell_type": "code",
   "execution_count": 11,
   "metadata": {},
   "outputs": [
    {
     "name": "stderr",
     "output_type": "stream",
     "text": [
      "Using TensorFlow backend.\n"
     ]
    }
   ],
   "source": [
    "#narmalised data to be in range of 0 to 1\n",
    "np_data=np.array(data)/255.0\n",
    "np_data=np.reshape(np_data,(np_data.shape[0],img_size, img_size, img_channels))\n",
    "np_target=np.array(target)\n",
    "#Convert 1d array to categorical data\n",
    "from keras.utils import np_utils\n",
    "np_target=np_utils.to_categorical(np_target)"
   ]
  },
  {
   "cell_type": "code",
   "execution_count": 1,
   "metadata": {},
   "outputs": [
    {
     "ename": "NameError",
     "evalue": "name 'np_data' is not defined",
     "output_type": "error",
     "traceback": [
      "\u001b[1;31m---------------------------------------------------------------------------\u001b[0m",
      "\u001b[1;31mNameError\u001b[0m                                 Traceback (most recent call last)",
      "\u001b[1;32m<ipython-input-1-7f89fa9e45ba>\u001b[0m in \u001b[0;36m<module>\u001b[1;34m\u001b[0m\n\u001b[1;32m----> 1\u001b[1;33m \u001b[0mprint\u001b[0m\u001b[1;33m(\u001b[0m\u001b[0mnp_data\u001b[0m\u001b[1;33m)\u001b[0m\u001b[1;33m\u001b[0m\u001b[1;33m\u001b[0m\u001b[0m\n\u001b[0m",
      "\u001b[1;31mNameError\u001b[0m: name 'np_data' is not defined"
     ]
    }
   ],
   "source": [
    "print(np_data)"
   ]
  },
  {
   "cell_type": "code",
   "execution_count": 13,
   "metadata": {},
   "outputs": [],
   "source": [
    "np.save('preprocessed_data_for_face_mask',np_data)\n",
    "np.save('preprocessed_target_for_face_mask',np_target)"
   ]
  }
 ],
 "metadata": {
  "kernelspec": {
   "display_name": "Python 3",
   "language": "python",
   "name": "python3"
  },
  "language_info": {
   "codemirror_mode": {
    "name": "ipython",
    "version": 3
   },
   "file_extension": ".py",
   "mimetype": "text/x-python",
   "name": "python",
   "nbconvert_exporter": "python",
   "pygments_lexer": "ipython3",
   "version": "3.6.10"
  }
 },
 "nbformat": 4,
 "nbformat_minor": 4
}
