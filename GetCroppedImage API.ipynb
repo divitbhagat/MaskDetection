{
 "cells": [
  {
   "cell_type": "code",
   "execution_count": 24,
   "metadata": {},
   "outputs": [],
   "source": [
    "import cv2\n",
    "import os\n",
    "import numpy as np \n",
    "import matplotlib.pyplot as plt  \n",
    "from PIL import Image"
   ]
  },
  {
   "cell_type": "code",
   "execution_count": 69,
   "metadata": {},
   "outputs": [],
   "source": [
    "\n",
    "def make_square(im, min_size=256, fill_color=(0, 0, 0, 0)):\n",
    "    x, y = im.size\n",
    "    size = max(min_size, x, y)\n",
    "    new_im = Image.new('RGBA', (size, size), fill_color)\n",
    "    new_im.paste(im, (int((size - x) / 2), int((size - y) / 2)))\n",
    "    return new_im\n",
    "\n",
    "def GetFace(img):\n",
    "    \n",
    "    #converting image to gray scale because cascade only work on gray scale images\n",
    "    gray=cv2.cvtColor(img,cv2.COLOR_BGR2GRAY)\n",
    "    faces=face_cascade.detectMultiScale(gray,1.3,5)  \n",
    "    \n",
    "    temp1=30\n",
    "    temp2=70\n",
    "    for (x,y,w,h) in faces:\n",
    "        \n",
    "        x=x-temp1\n",
    "        y=y-temp1\n",
    "        w=w+temp2\n",
    "        h=h+temp2\n",
    "        \n",
    "        #face_img=gray[y:y+w,x:x+w]\n",
    "        face_img=img[y:y+w,x:x+w]\n",
    "        \n",
    "        #For making image square(not required here)\n",
    "        #face_img=make_square(img,min_size=max(img.shape[0],img.shape[1]))\n",
    "        \n",
    "        #resizing 3d image\n",
    "        resized=cv2.resize(face_img,(200,200), interpolation=cv2.INTER_CUBIC)\n",
    "        return resized   \n",
    "    "
   ]
  },
  {
   "cell_type": "code",
   "execution_count": 70,
   "metadata": {
    "scrolled": false
   },
   "outputs": [],
   "source": [
    "path = 'F:\\Major Project\\Project1\\datasets2'\n",
    "image_name = 'test.jpg'\n",
    "image_path=os.path.join(path,image_name)\n",
    "img=cv2.imread(image_path)\n",
    "\n",
    "face_cascade=cv2.CascadeClassifier('haarcascade_frontalface_default.xml')\n",
    "\n",
    "ret=GetFace(img)\n",
    "\n",
    "cv2.imshow('img' , ret)\n",
    "k = cv2.waitKey(0)\n",
    "if k == 27:\n",
    "    cv2.destroyWindow('img')"
   ]
  }
 ],
 "metadata": {
  "kernelspec": {
   "display_name": "Python 3",
   "language": "python",
   "name": "python3"
  },
  "language_info": {
   "codemirror_mode": {
    "name": "ipython",
    "version": 3
   },
   "file_extension": ".py",
   "mimetype": "text/x-python",
   "name": "python",
   "nbconvert_exporter": "python",
   "pygments_lexer": "ipython3",
   "version": "3.6.10"
  }
 },
 "nbformat": 4,
 "nbformat_minor": 4
}
