{
 "cells": [
  {
   "cell_type": "raw",
   "metadata": {},
   "source": [
    "Tasks:\n",
    "    1. Get Reshaped data\n",
    "    2. Add convulational 2D layer\n",
    "    3. Add max pool layer\n",
    "    4. Add dropout\n",
    "    5. Flatten layer\n",
    "    6. Neural Network\n",
    "        1. Create a model\n",
    "        2. Define Architecture\n",
    "        3. Compile\n",
    "        4. Fit training data\n",
    "        5. Evaluate\n",
    "    "
   ]
  },
  {
   "cell_type": "code",
   "execution_count": 1,
   "metadata": {},
   "outputs": [],
   "source": [
    "import numpy as np"
   ]
  },
  {
   "cell_type": "code",
   "execution_count": 2,
   "metadata": {},
   "outputs": [],
   "source": [
    "#Get saved data set\n",
    "target=np.load('preprocessed_target_for_face_mask.npy')\n",
    "data=np.load('preprocessed_data_for_face_mask.npy')"
   ]
  },
  {
   "cell_type": "code",
   "execution_count": 3,
   "metadata": {},
   "outputs": [
    {
     "name": "stdout",
     "output_type": "stream",
     "text": [
      "(4541, 100, 100, 1)\n",
      "(4541, 2)\n"
     ]
    }
   ],
   "source": [
    "print(data.shape)\n",
    "print(target.shape)"
   ]
  },
  {
   "cell_type": "code",
   "execution_count": 4,
   "metadata": {},
   "outputs": [
    {
     "name": "stderr",
     "output_type": "stream",
     "text": [
      "Using TensorFlow backend.\n"
     ]
    }
   ],
   "source": [
    "from keras.models import Sequential\n",
    "from keras.layers import Dense,Activation,Flatten,Dropout, Conv2D,MaxPooling2D\n",
    "from keras.callbacks import ModelCheckpoint"
   ]
  },
  {
   "cell_type": "code",
   "execution_count": 5,
   "metadata": {},
   "outputs": [],
   "source": [
    "model = Sequential()\n",
    "\n",
    "#Add First CNN layer with activation function relu and maxpool layer\n",
    "model.add(Conv2D(200,(3,3),input_shape=data.shape[1:],padding='same'))\n",
    "model.add(Activation('relu'))\n",
    "model.add(MaxPooling2D(pool_size=(2,2)))\n",
    "\n",
    "#Add First CNN layer with activation function relu and maxpool layer\n",
    "model.add(Conv2D(100,(3,3),padding='same'))\n",
    "model.add(Activation('relu'))\n",
    "model.add(MaxPooling2D(pool_size=(2,2)))\n",
    "\n",
    "#Flatten 3d array to 1d array for dense neural network\n",
    "model.add(Flatten())\n",
    "\n",
    "#Use dropout to avoid overfitting\n",
    "model.add(Dropout(0.5))\n",
    "\n",
    "#First hidden layer with 64 neurons\n",
    "model.add(Dense(64,activation='relu'))\n",
    "\n",
    "#output layer with two outputs \n",
    "model.add(Dense(2,activation='softmax'))\n",
    "\n",
    "model.compile(optimizer='adam',metrics=['accuracy'],loss='categorical_crossentropy')"
   ]
  },
  {
   "cell_type": "code",
   "execution_count": 6,
   "metadata": {},
   "outputs": [],
   "source": [
    "#split given dataset into testing and training data\n",
    "from sklearn.model_selection import train_test_split\n",
    "x_train, x_test, y_train, y_test=train_test_split(data,target,test_size=0.2)\n",
    "# 80-20 percent split"
   ]
  },
  {
   "cell_type": "code",
   "execution_count": 7,
   "metadata": {},
   "outputs": [
    {
     "name": "stdout",
     "output_type": "stream",
     "text": [
      "(3632, 100, 100, 1)\n",
      "(909, 100, 100, 1)\n",
      "(3632, 2)\n",
      "(909, 2)\n"
     ]
    }
   ],
   "source": [
    "print(x_train.shape)\n",
    "print(x_test.shape)\n",
    "print(y_train.shape)\n",
    "print(y_test.shape)"
   ]
  },
  {
   "cell_type": "code",
   "execution_count": 8,
   "metadata": {},
   "outputs": [
    {
     "name": "stdout",
     "output_type": "stream",
     "text": [
      "Model: \"sequential_1\"\n",
      "_________________________________________________________________\n",
      "Layer (type)                 Output Shape              Param #   \n",
      "=================================================================\n",
      "conv2d_1 (Conv2D)            (None, 100, 100, 200)     2000      \n",
      "_________________________________________________________________\n",
      "activation_1 (Activation)    (None, 100, 100, 200)     0         \n",
      "_________________________________________________________________\n",
      "max_pooling2d_1 (MaxPooling2 (None, 50, 50, 200)       0         \n",
      "_________________________________________________________________\n",
      "conv2d_2 (Conv2D)            (None, 50, 50, 100)       180100    \n",
      "_________________________________________________________________\n",
      "activation_2 (Activation)    (None, 50, 50, 100)       0         \n",
      "_________________________________________________________________\n",
      "max_pooling2d_2 (MaxPooling2 (None, 25, 25, 100)       0         \n",
      "_________________________________________________________________\n",
      "flatten_1 (Flatten)          (None, 62500)             0         \n",
      "_________________________________________________________________\n",
      "dropout_1 (Dropout)          (None, 62500)             0         \n",
      "_________________________________________________________________\n",
      "dense_1 (Dense)              (None, 64)                4000064   \n",
      "_________________________________________________________________\n",
      "dense_2 (Dense)              (None, 2)                 130       \n",
      "=================================================================\n",
      "Total params: 4,182,294\n",
      "Trainable params: 4,182,294\n",
      "Non-trainable params: 0\n",
      "_________________________________________________________________\n"
     ]
    }
   ],
   "source": [
    "model.summary()"
   ]
  },
  {
   "cell_type": "code",
   "execution_count": 9,
   "metadata": {},
   "outputs": [
    {
     "name": "stdout",
     "output_type": "stream",
     "text": [
      "Train on 2905 samples, validate on 727 samples\n",
      "Epoch 1/25\n",
      "2905/2905 [==============================] - 59s 20ms/step - loss: 0.6290 - accuracy: 0.6448 - val_loss: 0.5149 - val_accuracy: 0.7153\n",
      "Epoch 2/25\n",
      "2905/2905 [==============================] - 50s 17ms/step - loss: 0.4701 - accuracy: 0.7749 - val_loss: 0.3277 - val_accuracy: 0.8556\n",
      "Epoch 3/25\n",
      "2905/2905 [==============================] - 50s 17ms/step - loss: 0.3463 - accuracy: 0.8444 - val_loss: 0.3230 - val_accuracy: 0.8666\n",
      "Epoch 4/25\n",
      "2905/2905 [==============================] - 50s 17ms/step - loss: 0.2924 - accuracy: 0.8723 - val_loss: 0.3219 - val_accuracy: 0.8638\n",
      "Epoch 5/25\n",
      "2905/2905 [==============================] - 50s 17ms/step - loss: 0.2265 - accuracy: 0.9102 - val_loss: 0.2364 - val_accuracy: 0.9078\n",
      "Epoch 6/25\n",
      "2905/2905 [==============================] - 50s 17ms/step - loss: 0.2139 - accuracy: 0.9119 - val_loss: 0.2028 - val_accuracy: 0.9188\n",
      "Epoch 7/25\n",
      "2905/2905 [==============================] - 50s 17ms/step - loss: 0.1577 - accuracy: 0.9373 - val_loss: 0.2118 - val_accuracy: 0.9188\n",
      "Epoch 8/25\n",
      "2905/2905 [==============================] - 50s 17ms/step - loss: 0.1369 - accuracy: 0.9463 - val_loss: 0.2639 - val_accuracy: 0.9051\n",
      "Epoch 9/25\n",
      "2905/2905 [==============================] - 50s 17ms/step - loss: 0.1117 - accuracy: 0.9597 - val_loss: 0.2274 - val_accuracy: 0.9257\n",
      "Epoch 10/25\n",
      "2905/2905 [==============================] - 50s 17ms/step - loss: 0.0984 - accuracy: 0.9594 - val_loss: 0.2618 - val_accuracy: 0.9078\n",
      "Epoch 11/25\n",
      "2905/2905 [==============================] - 50s 17ms/step - loss: 0.0741 - accuracy: 0.9714 - val_loss: 0.2192 - val_accuracy: 0.9395\n",
      "Epoch 12/25\n",
      "2905/2905 [==============================] - 50s 17ms/step - loss: 0.0629 - accuracy: 0.9756 - val_loss: 0.3093 - val_accuracy: 0.8968\n",
      "Epoch 13/25\n",
      "2905/2905 [==============================] - 50s 17ms/step - loss: 0.0532 - accuracy: 0.9780 - val_loss: 0.2671 - val_accuracy: 0.9216\n",
      "Epoch 14/25\n",
      "2905/2905 [==============================] - 50s 17ms/step - loss: 0.0518 - accuracy: 0.9824 - val_loss: 0.2541 - val_accuracy: 0.8996\n",
      "Epoch 15/25\n",
      "2905/2905 [==============================] - 50s 17ms/step - loss: 0.0648 - accuracy: 0.9762 - val_loss: 0.2270 - val_accuracy: 0.9326\n",
      "Epoch 16/25\n",
      "2905/2905 [==============================] - 50s 17ms/step - loss: 0.0392 - accuracy: 0.9849 - val_loss: 0.2487 - val_accuracy: 0.9312\n",
      "Epoch 17/25\n",
      "2905/2905 [==============================] - 50s 17ms/step - loss: 0.0375 - accuracy: 0.9866 - val_loss: 0.3102 - val_accuracy: 0.9202\n",
      "Epoch 18/25\n",
      "2905/2905 [==============================] - 50s 17ms/step - loss: 0.0378 - accuracy: 0.9862 - val_loss: 0.2835 - val_accuracy: 0.9243\n",
      "Epoch 19/25\n",
      "2905/2905 [==============================] - 50s 17ms/step - loss: 0.0339 - accuracy: 0.9873 - val_loss: 0.2620 - val_accuracy: 0.9298\n",
      "Epoch 20/25\n",
      "2905/2905 [==============================] - 50s 17ms/step - loss: 0.0317 - accuracy: 0.9886 - val_loss: 0.2577 - val_accuracy: 0.9271\n",
      "Epoch 21/25\n",
      "2905/2905 [==============================] - 50s 17ms/step - loss: 0.0186 - accuracy: 0.9952 - val_loss: 0.3048 - val_accuracy: 0.9133\n",
      "Epoch 22/25\n",
      "2905/2905 [==============================] - 50s 17ms/step - loss: 0.0424 - accuracy: 0.9828 - val_loss: 0.3062 - val_accuracy: 0.9106\n",
      "Epoch 23/25\n",
      "2905/2905 [==============================] - 50s 17ms/step - loss: 0.0205 - accuracy: 0.9952 - val_loss: 0.3046 - val_accuracy: 0.9271\n",
      "Epoch 24/25\n",
      "2905/2905 [==============================] - 50s 17ms/step - loss: 0.0139 - accuracy: 0.9969 - val_loss: 0.2685 - val_accuracy: 0.9436\n",
      "Epoch 25/25\n",
      "2905/2905 [==============================] - 50s 17ms/step - loss: 0.0263 - accuracy: 0.9914 - val_loss: 0.2942 - val_accuracy: 0.9216\n"
     ]
    }
   ],
   "source": [
    "checkpoint = ModelCheckpoint('model-{epoch:03d}.model',monitor='val_loss',verbose=0,save_best_only=False,mode='auto')\n",
    "history=model.fit(x_train,y_train,epochs=25,callbacks=[checkpoint],validation_split=0.2)"
   ]
  },
  {
   "cell_type": "code",
   "execution_count": 10,
   "metadata": {},
   "outputs": [
    {
     "data": {
      "image/png": "[encoded data removed]",
      "text/plain": [
       "<Figure size 432x288 with 1 Axes>"
      ]
     },
     "metadata": {
      "needs_background": "light"
     },
     "output_type": "display_data"
    }
   ],
   "source": [
    "from matplotlib import pyplot as plt\n",
    "\n",
    "plt.plot(history.history['loss'],'r',label='training loss')\n",
    "plt.plot(history.history['val_loss'],label='validation loss')\n",
    "plt.xlabel('# epochs')\n",
    "plt.ylabel('loss')\n",
    "plt.legend()\n",
    "plt.show()"
   ]
  },
  {
   "cell_type": "code",
   "execution_count": 11,
   "metadata": {},
   "outputs": [
    {
     "data": {
      "image/png": "[encoded data removed]",
      "text/plain": [
       "<Figure size 432x288 with 1 Axes>"
      ]
     },
     "metadata": {
      "needs_background": "light"
     },
     "output_type": "display_data"
    }
   ],
   "source": [
    "plt.plot(history.history['accuracy'],'r',label='training accuracy')\n",
    "plt.plot(history.history['val_accuracy'],label='validation accuracy')\n",
    "plt.xlabel('# epochs')\n",
    "plt.ylabel('loss')\n",
    "plt.legend()\n",
    "plt.show()"
   ]
  },
  {
   "cell_type": "code",
   "execution_count": 12,
   "metadata": {},
   "outputs": [
    {
     "data": {
      "text/plain": [
       "array([[6.9242716e-02, 9.3075728e-01],\n",
       "       [9.9993300e-01, 6.6961205e-05],\n",
       "       [9.9998868e-01, 1.1313618e-05],\n",
       "       ...,\n",
       "       [5.6931329e-01, 4.3068668e-01],\n",
       "       [1.4118633e-01, 8.5881370e-01],\n",
       "       [9.9975485e-01, 2.4519107e-04]], dtype=float32)"
      ]
     },
     "execution_count": 12,
     "metadata": {},
     "output_type": "execute_result"
    }
   ],
   "source": [
    "predictions = model.predict(x_test)\n",
    "predictions"
   ]
  },
  {
   "cell_type": "code",
   "execution_count": 13,
   "metadata": {},
   "outputs": [
    {
     "name": "stdout",
     "output_type": "stream",
     "text": [
      "909/909 [==============================] - 4s 5ms/step\n",
      "[0.24937418087644808, 0.9317931532859802]\n"
     ]
    }
   ],
   "source": [
    "score = model.evaluate(x_test,y_test)\n",
    "print(score)"
   ]
  },
  {
   "cell_type": "code",
   "execution_count": 14,
   "metadata": {},
   "outputs": [
    {
     "name": "stdout",
     "output_type": "stream",
     "text": [
      "Model: \"sequential_1\"\n",
      "_________________________________________________________________\n",
      "Layer (type)                 Output Shape              Param #   \n",
      "=================================================================\n",
      "conv2d_1 (Conv2D)            (None, 100, 100, 200)     2000      \n",
      "_________________________________________________________________\n",
      "activation_1 (Activation)    (None, 100, 100, 200)     0         \n",
      "_________________________________________________________________\n",
      "max_pooling2d_1 (MaxPooling2 (None, 50, 50, 200)       0         \n",
      "_________________________________________________________________\n",
      "conv2d_2 (Conv2D)            (None, 50, 50, 100)       180100    \n",
      "_________________________________________________________________\n",
      "activation_2 (Activation)    (None, 50, 50, 100)       0         \n",
      "_________________________________________________________________\n",
      "max_pooling2d_2 (MaxPooling2 (None, 25, 25, 100)       0         \n",
      "_________________________________________________________________\n",
      "flatten_1 (Flatten)          (None, 62500)             0         \n",
      "_________________________________________________________________\n",
      "dropout_1 (Dropout)          (None, 62500)             0         \n",
      "_________________________________________________________________\n",
      "dense_1 (Dense)              (None, 64)                4000064   \n",
      "_________________________________________________________________\n",
      "dense_2 (Dense)              (None, 2)                 130       \n",
      "=================================================================\n",
      "Total params: 4,182,294\n",
      "Trainable params: 4,182,294\n",
      "Non-trainable params: 0\n",
      "_________________________________________________________________\n"
     ]
    }
   ],
   "source": [
    "model.summary()"
   ]
  }
 ],
 "metadata": {
  "kernelspec": {
   "display_name": "Python 3",
   "language": "python",
   "name": "python3"
  },
  "language_info": {
   "codemirror_mode": {
    "name": "ipython",
    "version": 3
   },
   "file_extension": ".py",
   "mimetype": "text/x-python",
   "name": "python",
   "nbconvert_exporter": "python",
   "pygments_lexer": "ipython3",
   "version": "3.6.10"
  }
 },
 "nbformat": 4,
 "nbformat_minor": 4
}
